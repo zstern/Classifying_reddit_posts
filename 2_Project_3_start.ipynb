{
 "cells": [
  {
   "cell_type": "code",
   "execution_count": 1,
   "metadata": {},
   "outputs": [],
   "source": [
    "#import, clean data, combine into one dataset"
   ]
  },
  {
   "cell_type": "code",
   "execution_count": 2,
   "metadata": {},
   "outputs": [],
   "source": [
    "import pandas as pd\n",
    "import numpy as np\n",
    "import re\n"
   ]
  },
  {
   "cell_type": "code",
   "execution_count": 3,
   "metadata": {},
   "outputs": [],
   "source": [
    "#change column width option\n",
    "pd.set_option('display.max_colwidth',100)"
   ]
  },
  {
   "cell_type": "code",
   "execution_count": 4,
   "metadata": {},
   "outputs": [],
   "source": [
    "#read in the 'shower thoughts' posts:\n",
    "shower = pd.read_csv('./data/shower.csv')"
   ]
  },
  {
   "cell_type": "code",
   "execution_count": 5,
   "metadata": {
    "scrolled": true
   },
   "outputs": [
    {
     "data": {
      "text/html": [
       "<div>\n",
       "<style scoped>\n",
       "    .dataframe tbody tr th:only-of-type {\n",
       "        vertical-align: middle;\n",
       "    }\n",
       "\n",
       "    .dataframe tbody tr th {\n",
       "        vertical-align: top;\n",
       "    }\n",
       "\n",
       "    .dataframe thead th {\n",
       "        text-align: right;\n",
       "    }\n",
       "</style>\n",
       "<table border=\"1\" class=\"dataframe\">\n",
       "  <thead>\n",
       "    <tr style=\"text-align: right;\">\n",
       "      <th></th>\n",
       "      <th>Unnamed: 0</th>\n",
       "      <th>title</th>\n",
       "      <th>selftext</th>\n",
       "      <th>subreddit</th>\n",
       "      <th>created_utc</th>\n",
       "      <th>author</th>\n",
       "      <th>num_comments</th>\n",
       "      <th>score</th>\n",
       "      <th>is_self</th>\n",
       "      <th>timestamp</th>\n",
       "    </tr>\n",
       "  </thead>\n",
       "  <tbody>\n",
       "    <tr>\n",
       "      <th>0</th>\n",
       "      <td>0</td>\n",
       "      <td>On SoundCloud you have more listens than followers. On YouTube you have more subscribers than vi...</td>\n",
       "      <td>[removed]</td>\n",
       "      <td>Showerthoughts</td>\n",
       "      <td>1545009924</td>\n",
       "      <td>DeeSkelly</td>\n",
       "      <td>2</td>\n",
       "      <td>1</td>\n",
       "      <td>True</td>\n",
       "      <td>2018-12-16</td>\n",
       "    </tr>\n",
       "    <tr>\n",
       "      <th>1</th>\n",
       "      <td>1</td>\n",
       "      <td>Taking MDMA is is just borrowing energy from tomorrow</td>\n",
       "      <td>NaN</td>\n",
       "      <td>Showerthoughts</td>\n",
       "      <td>1545009938</td>\n",
       "      <td>Bonelesszeeebra</td>\n",
       "      <td>1</td>\n",
       "      <td>1</td>\n",
       "      <td>True</td>\n",
       "      <td>2018-12-16</td>\n",
       "    </tr>\n",
       "    <tr>\n",
       "      <th>2</th>\n",
       "      <td>2</td>\n",
       "      <td>Being lonely is receiving a notification and thinking it’s a text message when yours phones at 15%</td>\n",
       "      <td>NaN</td>\n",
       "      <td>Showerthoughts</td>\n",
       "      <td>1545009950</td>\n",
       "      <td>supremedoggo69</td>\n",
       "      <td>2</td>\n",
       "      <td>1</td>\n",
       "      <td>True</td>\n",
       "      <td>2018-12-16</td>\n",
       "    </tr>\n",
       "    <tr>\n",
       "      <th>3</th>\n",
       "      <td>3</td>\n",
       "      <td>Why are all heartbreak quotes about women?</td>\n",
       "      <td>[removed]</td>\n",
       "      <td>Showerthoughts</td>\n",
       "      <td>1545009956</td>\n",
       "      <td>_s_r_v_</td>\n",
       "      <td>2</td>\n",
       "      <td>1</td>\n",
       "      <td>True</td>\n",
       "      <td>2018-12-16</td>\n",
       "    </tr>\n",
       "    <tr>\n",
       "      <th>4</th>\n",
       "      <td>4</td>\n",
       "      <td>Life would be very boring if we couldn’t talk to ourselves.</td>\n",
       "      <td>You know, the voice in your head that stays the same volume even if you shout.</td>\n",
       "      <td>Showerthoughts</td>\n",
       "      <td>1545009982</td>\n",
       "      <td>Scraw-</td>\n",
       "      <td>3</td>\n",
       "      <td>1</td>\n",
       "      <td>True</td>\n",
       "      <td>2018-12-16</td>\n",
       "    </tr>\n",
       "  </tbody>\n",
       "</table>\n",
       "</div>"
      ],
      "text/plain": [
       "   Unnamed: 0  \\\n",
       "0           0   \n",
       "1           1   \n",
       "2           2   \n",
       "3           3   \n",
       "4           4   \n",
       "\n",
       "                                                                                                 title  \\\n",
       "0  On SoundCloud you have more listens than followers. On YouTube you have more subscribers than vi...   \n",
       "1                                                Taking MDMA is is just borrowing energy from tomorrow   \n",
       "2   Being lonely is receiving a notification and thinking it’s a text message when yours phones at 15%   \n",
       "3                                                           Why are all heartbreak quotes about women?   \n",
       "4                                          Life would be very boring if we couldn’t talk to ourselves.   \n",
       "\n",
       "                                                                          selftext  \\\n",
       "0                                                                        [removed]   \n",
       "1                                                                              NaN   \n",
       "2                                                                              NaN   \n",
       "3                                                                        [removed]   \n",
       "4  You know, the voice in your head that stays the same volume even if you shout.    \n",
       "\n",
       "        subreddit  created_utc           author  num_comments  score  is_self  \\\n",
       "0  Showerthoughts   1545009924        DeeSkelly             2      1     True   \n",
       "1  Showerthoughts   1545009938  Bonelesszeeebra             1      1     True   \n",
       "2  Showerthoughts   1545009950   supremedoggo69             2      1     True   \n",
       "3  Showerthoughts   1545009956          _s_r_v_             2      1     True   \n",
       "4  Showerthoughts   1545009982           Scraw-             3      1     True   \n",
       "\n",
       "    timestamp  \n",
       "0  2018-12-16  \n",
       "1  2018-12-16  \n",
       "2  2018-12-16  \n",
       "3  2018-12-16  \n",
       "4  2018-12-16  "
      ]
     },
     "execution_count": 5,
     "metadata": {},
     "output_type": "execute_result"
    }
   ],
   "source": [
    "shower.head()"
   ]
  },
  {
   "cell_type": "code",
   "execution_count": 6,
   "metadata": {},
   "outputs": [],
   "source": [
    "#creating a list of columns that we will drop and not use in our model\n",
    "drop = [col for col in shower.columns if col not in ['title','subreddit']]"
   ]
  },
  {
   "cell_type": "code",
   "execution_count": 7,
   "metadata": {},
   "outputs": [],
   "source": [
    "shower.drop(drop,axis=1,inplace=True)"
   ]
  },
  {
   "cell_type": "code",
   "execution_count": 8,
   "metadata": {},
   "outputs": [
    {
     "data": {
      "text/plain": [
       "(12000, 2)"
      ]
     },
     "execution_count": 8,
     "metadata": {},
     "output_type": "execute_result"
    }
   ],
   "source": [
    "#checking the shape of our new, cleaned df\n",
    "shower.shape"
   ]
  },
  {
   "cell_type": "code",
   "execution_count": 9,
   "metadata": {},
   "outputs": [],
   "source": [
    "#dropping charicters that are not needed and will interfer w/ our model\n",
    "shower['title'] = shower['title'].map(lambda x: x.lower())\n",
    "\n",
    "shower['title'] = shower['title'].map(lambda x: re.sub('r/', '', x)  )\n",
    "\n",
    "shower['title'] = shower['title'].map(lambda x: re.sub(r'[$\\\"&<.,%*?>😎]', '',x))\n",
    "\n",
    "shower['title'] = shower['title'].map(lambda x: re.sub(r'\\d*','',x))"
   ]
  },
  {
   "cell_type": "code",
   "execution_count": 10,
   "metadata": {
    "scrolled": true
   },
   "outputs": [
    {
     "data": {
      "text/html": [
       "<div>\n",
       "<style scoped>\n",
       "    .dataframe tbody tr th:only-of-type {\n",
       "        vertical-align: middle;\n",
       "    }\n",
       "\n",
       "    .dataframe tbody tr th {\n",
       "        vertical-align: top;\n",
       "    }\n",
       "\n",
       "    .dataframe thead th {\n",
       "        text-align: right;\n",
       "    }\n",
       "</style>\n",
       "<table border=\"1\" class=\"dataframe\">\n",
       "  <thead>\n",
       "    <tr style=\"text-align: right;\">\n",
       "      <th></th>\n",
       "      <th>title</th>\n",
       "      <th>subreddit</th>\n",
       "    </tr>\n",
       "  </thead>\n",
       "  <tbody>\n",
       "    <tr>\n",
       "      <th>0</th>\n",
       "      <td>on soundcloud you have more listens than followers on youtube you have more subscribers than views</td>\n",
       "      <td>Showerthoughts</td>\n",
       "    </tr>\n",
       "    <tr>\n",
       "      <th>1</th>\n",
       "      <td>taking mdma is is just borrowing energy from tomorrow</td>\n",
       "      <td>Showerthoughts</td>\n",
       "    </tr>\n",
       "    <tr>\n",
       "      <th>2</th>\n",
       "      <td>being lonely is receiving a notification and thinking it’s a text message when yours phones at</td>\n",
       "      <td>Showerthoughts</td>\n",
       "    </tr>\n",
       "    <tr>\n",
       "      <th>3</th>\n",
       "      <td>why are all heartbreak quotes about women</td>\n",
       "      <td>Showerthoughts</td>\n",
       "    </tr>\n",
       "    <tr>\n",
       "      <th>4</th>\n",
       "      <td>life would be very boring if we couldn’t talk to ourselves</td>\n",
       "      <td>Showerthoughts</td>\n",
       "    </tr>\n",
       "  </tbody>\n",
       "</table>\n",
       "</div>"
      ],
      "text/plain": [
       "                                                                                                title  \\\n",
       "0  on soundcloud you have more listens than followers on youtube you have more subscribers than views   \n",
       "1                                               taking mdma is is just borrowing energy from tomorrow   \n",
       "2     being lonely is receiving a notification and thinking it’s a text message when yours phones at    \n",
       "3                                                           why are all heartbreak quotes about women   \n",
       "4                                          life would be very boring if we couldn’t talk to ourselves   \n",
       "\n",
       "        subreddit  \n",
       "0  Showerthoughts  \n",
       "1  Showerthoughts  \n",
       "2  Showerthoughts  \n",
       "3  Showerthoughts  \n",
       "4  Showerthoughts  "
      ]
     },
     "execution_count": 10,
     "metadata": {},
     "output_type": "execute_result"
    }
   ],
   "source": [
    "shower.head()"
   ]
  },
  {
   "cell_type": "code",
   "execution_count": 11,
   "metadata": {},
   "outputs": [],
   "source": [
    "#reading in our Trump aka 'r_donald' reddit postings\n",
    "trump = pd.read_csv('./data/trump_f.csv')"
   ]
  },
  {
   "cell_type": "code",
   "execution_count": 12,
   "metadata": {
    "scrolled": true
   },
   "outputs": [
    {
     "data": {
      "text/html": [
       "<div>\n",
       "<style scoped>\n",
       "    .dataframe tbody tr th:only-of-type {\n",
       "        vertical-align: middle;\n",
       "    }\n",
       "\n",
       "    .dataframe tbody tr th {\n",
       "        vertical-align: top;\n",
       "    }\n",
       "\n",
       "    .dataframe thead th {\n",
       "        text-align: right;\n",
       "    }\n",
       "</style>\n",
       "<table border=\"1\" class=\"dataframe\">\n",
       "  <thead>\n",
       "    <tr style=\"text-align: right;\">\n",
       "      <th></th>\n",
       "      <th>Unnamed: 0</th>\n",
       "      <th>title</th>\n",
       "      <th>selftext</th>\n",
       "      <th>subreddit</th>\n",
       "      <th>created_utc</th>\n",
       "      <th>author</th>\n",
       "      <th>num_comments</th>\n",
       "      <th>score</th>\n",
       "      <th>is_self</th>\n",
       "      <th>timestamp</th>\n",
       "    </tr>\n",
       "  </thead>\n",
       "  <tbody>\n",
       "    <tr>\n",
       "      <th>0</th>\n",
       "      <td>0</td>\n",
       "      <td>Get free Trump logos on your golf balls</td>\n",
       "      <td>https://www.foundgolfballs.com\\n\\nIs running a promotion for free personalized golf balls. \\n\\nT...</td>\n",
       "      <td>The_Donald</td>\n",
       "      <td>1544985355</td>\n",
       "      <td>Sgfoo</td>\n",
       "      <td>0</td>\n",
       "      <td>1</td>\n",
       "      <td>True</td>\n",
       "      <td>2018-12-16</td>\n",
       "    </tr>\n",
       "    <tr>\n",
       "      <th>1</th>\n",
       "      <td>1</td>\n",
       "      <td>Damn old white people and their *shuffles cards * opinions</td>\n",
       "      <td>NaN</td>\n",
       "      <td>The_Donald</td>\n",
       "      <td>1544985397</td>\n",
       "      <td>some1thing1</td>\n",
       "      <td>43</td>\n",
       "      <td>1</td>\n",
       "      <td>False</td>\n",
       "      <td>2018-12-16</td>\n",
       "    </tr>\n",
       "    <tr>\n",
       "      <th>2</th>\n",
       "      <td>2</td>\n",
       "      <td>My doctor said now that I'm older, I need to install a bar in the shower. Is this done right?</td>\n",
       "      <td>NaN</td>\n",
       "      <td>The_Donald</td>\n",
       "      <td>1544985410</td>\n",
       "      <td>Traunch</td>\n",
       "      <td>5</td>\n",
       "      <td>1</td>\n",
       "      <td>False</td>\n",
       "      <td>2018-12-16</td>\n",
       "    </tr>\n",
       "    <tr>\n",
       "      <th>3</th>\n",
       "      <td>3</td>\n",
       "      <td>Sunday gun day Cali style 😎</td>\n",
       "      <td>NaN</td>\n",
       "      <td>The_Donald</td>\n",
       "      <td>1544985430</td>\n",
       "      <td>blah_blah_kewl</td>\n",
       "      <td>7</td>\n",
       "      <td>1</td>\n",
       "      <td>False</td>\n",
       "      <td>2018-12-16</td>\n",
       "    </tr>\n",
       "    <tr>\n",
       "      <th>4</th>\n",
       "      <td>4</td>\n",
       "      <td>SUNDAY GUNDAY: The first firearm I ever purchased. SOCOM 16 CQB.</td>\n",
       "      <td>NaN</td>\n",
       "      <td>The_Donald</td>\n",
       "      <td>1544985461</td>\n",
       "      <td>Balian01</td>\n",
       "      <td>12</td>\n",
       "      <td>1</td>\n",
       "      <td>False</td>\n",
       "      <td>2018-12-16</td>\n",
       "    </tr>\n",
       "  </tbody>\n",
       "</table>\n",
       "</div>"
      ],
      "text/plain": [
       "   Unnamed: 0  \\\n",
       "0           0   \n",
       "1           1   \n",
       "2           2   \n",
       "3           3   \n",
       "4           4   \n",
       "\n",
       "                                                                                           title  \\\n",
       "0                                                        Get free Trump logos on your golf balls   \n",
       "1                                     Damn old white people and their *shuffles cards * opinions   \n",
       "2  My doctor said now that I'm older, I need to install a bar in the shower. Is this done right?   \n",
       "3                                                                    Sunday gun day Cali style 😎   \n",
       "4                               SUNDAY GUNDAY: The first firearm I ever purchased. SOCOM 16 CQB.   \n",
       "\n",
       "                                                                                              selftext  \\\n",
       "0  https://www.foundgolfballs.com\\n\\nIs running a promotion for free personalized golf balls. \\n\\nT...   \n",
       "1                                                                                                  NaN   \n",
       "2                                                                                                  NaN   \n",
       "3                                                                                                  NaN   \n",
       "4                                                                                                  NaN   \n",
       "\n",
       "    subreddit  created_utc          author  num_comments  score  is_self  \\\n",
       "0  The_Donald   1544985355           Sgfoo             0      1     True   \n",
       "1  The_Donald   1544985397     some1thing1            43      1    False   \n",
       "2  The_Donald   1544985410         Traunch             5      1    False   \n",
       "3  The_Donald   1544985430  blah_blah_kewl             7      1    False   \n",
       "4  The_Donald   1544985461        Balian01            12      1    False   \n",
       "\n",
       "    timestamp  \n",
       "0  2018-12-16  \n",
       "1  2018-12-16  \n",
       "2  2018-12-16  \n",
       "3  2018-12-16  \n",
       "4  2018-12-16  "
      ]
     },
     "execution_count": 12,
     "metadata": {},
     "output_type": "execute_result"
    }
   ],
   "source": [
    "trump.head()"
   ]
  },
  {
   "cell_type": "code",
   "execution_count": 13,
   "metadata": {},
   "outputs": [],
   "source": [
    "#running the same cleaning operations below as we did for our first data frame"
   ]
  },
  {
   "cell_type": "code",
   "execution_count": 14,
   "metadata": {},
   "outputs": [],
   "source": [
    "trump.drop(drop,axis=1,inplace=True)"
   ]
  },
  {
   "cell_type": "code",
   "execution_count": 15,
   "metadata": {},
   "outputs": [],
   "source": [
    "trump['title'] = trump['title'].map(lambda x: x.lower())\n",
    "trump['title'] = trump['title'].map(lambda x: re.sub('r/', '', x)  )\n",
    "trump['title'] = trump['title'].map(lambda x: re.sub(r'[$\\\"&<.,%*?>😎]', '',x))\n",
    "trump['title'] = trump['title'].map(lambda x: re.sub(r'\\d*', '',x))"
   ]
  },
  {
   "cell_type": "code",
   "execution_count": 16,
   "metadata": {},
   "outputs": [
    {
     "data": {
      "text/plain": [
       "(10000, 2)"
      ]
     },
     "execution_count": 16,
     "metadata": {},
     "output_type": "execute_result"
    }
   ],
   "source": [
    "#check shape on trump posts\n",
    "trump.shape"
   ]
  },
  {
   "cell_type": "code",
   "execution_count": 17,
   "metadata": {},
   "outputs": [],
   "source": [
    "#deleting/dropping some 'shower thoughts' posts so that we have equal classes\n",
    "shower.drop(shower.index[10000:12000],inplace=True)"
   ]
  },
  {
   "cell_type": "code",
   "execution_count": 18,
   "metadata": {},
   "outputs": [
    {
     "data": {
      "text/plain": [
       "(10000, 2)"
      ]
     },
     "execution_count": 18,
     "metadata": {},
     "output_type": "execute_result"
    }
   ],
   "source": [
    "shower.shape"
   ]
  },
  {
   "cell_type": "code",
   "execution_count": 19,
   "metadata": {},
   "outputs": [],
   "source": [
    "#create combined final df\n",
    "final = shower.append(trump)"
   ]
  },
  {
   "cell_type": "code",
   "execution_count": 20,
   "metadata": {},
   "outputs": [
    {
     "data": {
      "text/plain": [
       "(20000, 2)"
      ]
     },
     "execution_count": 20,
     "metadata": {},
     "output_type": "execute_result"
    }
   ],
   "source": [
    "final.shape"
   ]
  },
  {
   "cell_type": "code",
   "execution_count": 21,
   "metadata": {},
   "outputs": [
    {
     "data": {
      "text/plain": [
       "Showerthoughts    0.5\n",
       "The_Donald        0.5\n",
       "Name: subreddit, dtype: float64"
      ]
     },
     "execution_count": 21,
     "metadata": {},
     "output_type": "execute_result"
    }
   ],
   "source": [
    "#checking the distribution of our classes prior to prediction\n",
    "final['subreddit'].value_counts(normalize=True)"
   ]
  },
  {
   "cell_type": "code",
   "execution_count": null,
   "metadata": {},
   "outputs": [],
   "source": [
    "#write our dataframe to csv to save\n",
    "#final.to_csv('./data/reddit_final.csv')"
   ]
  }
 ],
 "metadata": {
  "kernelspec": {
   "display_name": "Python 3",
   "language": "python",
   "name": "python3"
  },
  "language_info": {
   "codemirror_mode": {
    "name": "ipython",
    "version": 3
   },
   "file_extension": ".py",
   "mimetype": "text/x-python",
   "name": "python",
   "nbconvert_exporter": "python",
   "pygments_lexer": "ipython3",
   "version": "3.6.8"
  }
 },
 "nbformat": 4,
 "nbformat_minor": 2
}
