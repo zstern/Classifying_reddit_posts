{
 "cells": [
  {
   "cell_type": "code",
   "execution_count": 2,
   "metadata": {},
   "outputs": [],
   "source": [
    "#using Brian Collins code to get all the data from the pushshift api.\n",
    "#tried a few subreddits before settling on 'The_Donald' and 'Showerthoughts'"
   ]
  },
  {
   "cell_type": "code",
   "execution_count": 17,
   "metadata": {},
   "outputs": [],
   "source": [
    "import pandas as pd\n",
    "import numpy as np\n",
    "import requests\n",
    "import time\n",
    "import datetime as dt\n",
    "import dateutil"
   ]
  },
  {
   "cell_type": "code",
   "execution_count": 28,
   "metadata": {},
   "outputs": [],
   "source": [
    "def query_pushshift(subreddit, kind='submission', skip=1, times=21, \n",
    "                    subfield = ['title', 'selftext', 'subreddit', 'created_utc', 'author', 'num_comments', 'score', 'is_self'],\n",
    "                    comfields = ['body', 'score', 'created_utc']):\n",
    "\n",
    "    stem = \"https://api.pushshift.io/reddit/search/{}/?subreddit={}&size=500\".format(kind, subreddit)\n",
    "    mylist = []\n",
    "    \n",
    "    for x in range(1, times):\n",
    "        \n",
    "        URL = \"{}&after={}d\".format(stem, skip * x)\n",
    "        print(URL)\n",
    "        response = requests.get(URL)\n",
    "        assert response.status_code == 200\n",
    "        mine = response.json()['data']\n",
    "        df = pd.DataFrame.from_dict(mine)\n",
    "        mylist.append(df)\n",
    "        time.sleep(2)\n",
    "        \n",
    "    full = pd.concat(mylist, sort=False)\n",
    "    \n",
    "    if kind == \"submission\":\n",
    "        \n",
    "        full = full[subfield]\n",
    "        \n",
    "        #full = full.drop_duplicates()\n",
    "        \n",
    "#         full = full.loc[full['is_self'] == True]\n",
    "        \n",
    "    def get_date(created):\n",
    "        return dt.date.fromtimestamp(created)\n",
    "    \n",
    "    _timestamp = full[\"created_utc\"].apply(get_date)\n",
    "    \n",
    "    full['timestamp'] = _timestamp\n",
    "\n",
    "    print(full.shape)\n",
    "    \n",
    "    return full "
   ]
  },
  {
   "cell_type": "code",
   "execution_count": 31,
   "metadata": {},
   "outputs": [
    {
     "name": "stdout",
     "output_type": "stream",
     "text": [
      "https://api.pushshift.io/reddit/search/submission/?subreddit=The_Donald&size=500&after=1d\n",
      "https://api.pushshift.io/reddit/search/submission/?subreddit=The_Donald&size=500&after=2d\n",
      "https://api.pushshift.io/reddit/search/submission/?subreddit=The_Donald&size=500&after=3d\n",
      "https://api.pushshift.io/reddit/search/submission/?subreddit=The_Donald&size=500&after=4d\n",
      "https://api.pushshift.io/reddit/search/submission/?subreddit=The_Donald&size=500&after=5d\n",
      "https://api.pushshift.io/reddit/search/submission/?subreddit=The_Donald&size=500&after=6d\n",
      "https://api.pushshift.io/reddit/search/submission/?subreddit=The_Donald&size=500&after=7d\n",
      "https://api.pushshift.io/reddit/search/submission/?subreddit=The_Donald&size=500&after=8d\n",
      "https://api.pushshift.io/reddit/search/submission/?subreddit=The_Donald&size=500&after=9d\n",
      "https://api.pushshift.io/reddit/search/submission/?subreddit=The_Donald&size=500&after=10d\n",
      "https://api.pushshift.io/reddit/search/submission/?subreddit=The_Donald&size=500&after=11d\n",
      "https://api.pushshift.io/reddit/search/submission/?subreddit=The_Donald&size=500&after=12d\n",
      "https://api.pushshift.io/reddit/search/submission/?subreddit=The_Donald&size=500&after=13d\n",
      "https://api.pushshift.io/reddit/search/submission/?subreddit=The_Donald&size=500&after=14d\n",
      "https://api.pushshift.io/reddit/search/submission/?subreddit=The_Donald&size=500&after=15d\n",
      "https://api.pushshift.io/reddit/search/submission/?subreddit=The_Donald&size=500&after=16d\n",
      "https://api.pushshift.io/reddit/search/submission/?subreddit=The_Donald&size=500&after=17d\n",
      "https://api.pushshift.io/reddit/search/submission/?subreddit=The_Donald&size=500&after=18d\n",
      "https://api.pushshift.io/reddit/search/submission/?subreddit=The_Donald&size=500&after=19d\n",
      "https://api.pushshift.io/reddit/search/submission/?subreddit=The_Donald&size=500&after=20d\n",
      "(10000, 9)\n"
     ]
    }
   ],
   "source": [
    "DJT = query_pushshift('The_Donald')"
   ]
  },
  {
   "cell_type": "code",
   "execution_count": 40,
   "metadata": {},
   "outputs": [
    {
     "data": {
      "text/plain": [
       "9737"
      ]
     },
     "execution_count": 40,
     "metadata": {},
     "output_type": "execute_result"
    }
   ],
   "source": [
    "len(DJT['title'].value_counts().values)"
   ]
  },
  {
   "cell_type": "code",
   "execution_count": 1,
   "metadata": {},
   "outputs": [],
   "source": [
    "#DJT.drop_duplicates(subset='title')"
   ]
  },
  {
   "cell_type": "code",
   "execution_count": 65,
   "metadata": {},
   "outputs": [],
   "source": [
    "DJT.to_csv('/Users/zacharystern/Documents/GA/submissions/Project_3_reddit/trump_f.csv')"
   ]
  },
  {
   "cell_type": "code",
   "execution_count": 52,
   "metadata": {},
   "outputs": [
    {
     "name": "stdout",
     "output_type": "stream",
     "text": [
      "https://api.pushshift.io/reddit/search/submission/?subreddit=thedonald&size=500&after=1d\n",
      "https://api.pushshift.io/reddit/search/submission/?subreddit=thedonald&size=500&after=2d\n",
      "https://api.pushshift.io/reddit/search/submission/?subreddit=thedonald&size=500&after=3d\n",
      "https://api.pushshift.io/reddit/search/submission/?subreddit=thedonald&size=500&after=4d\n",
      "https://api.pushshift.io/reddit/search/submission/?subreddit=thedonald&size=500&after=5d\n",
      "https://api.pushshift.io/reddit/search/submission/?subreddit=thedonald&size=500&after=6d\n",
      "https://api.pushshift.io/reddit/search/submission/?subreddit=thedonald&size=500&after=7d\n",
      "https://api.pushshift.io/reddit/search/submission/?subreddit=thedonald&size=500&after=8d\n",
      "https://api.pushshift.io/reddit/search/submission/?subreddit=thedonald&size=500&after=9d\n",
      "https://api.pushshift.io/reddit/search/submission/?subreddit=thedonald&size=500&after=10d\n",
      "https://api.pushshift.io/reddit/search/submission/?subreddit=thedonald&size=500&after=11d\n",
      "https://api.pushshift.io/reddit/search/submission/?subreddit=thedonald&size=500&after=12d\n",
      "https://api.pushshift.io/reddit/search/submission/?subreddit=thedonald&size=500&after=13d\n",
      "https://api.pushshift.io/reddit/search/submission/?subreddit=thedonald&size=500&after=14d\n",
      "https://api.pushshift.io/reddit/search/submission/?subreddit=thedonald&size=500&after=15d\n",
      "https://api.pushshift.io/reddit/search/submission/?subreddit=thedonald&size=500&after=16d\n",
      "https://api.pushshift.io/reddit/search/submission/?subreddit=thedonald&size=500&after=17d\n",
      "https://api.pushshift.io/reddit/search/submission/?subreddit=thedonald&size=500&after=18d\n",
      "https://api.pushshift.io/reddit/search/submission/?subreddit=thedonald&size=500&after=19d\n",
      "https://api.pushshift.io/reddit/search/submission/?subreddit=thedonald&size=500&after=20d\n",
      "https://api.pushshift.io/reddit/search/submission/?subreddit=thedonald&size=500&after=21d\n",
      "https://api.pushshift.io/reddit/search/submission/?subreddit=thedonald&size=500&after=22d\n",
      "https://api.pushshift.io/reddit/search/submission/?subreddit=thedonald&size=500&after=23d\n",
      "https://api.pushshift.io/reddit/search/submission/?subreddit=thedonald&size=500&after=24d\n",
      "https://api.pushshift.io/reddit/search/submission/?subreddit=thedonald&size=500&after=25d\n",
      "https://api.pushshift.io/reddit/search/submission/?subreddit=thedonald&size=500&after=26d\n",
      "https://api.pushshift.io/reddit/search/submission/?subreddit=thedonald&size=500&after=27d\n",
      "https://api.pushshift.io/reddit/search/submission/?subreddit=thedonald&size=500&after=28d\n",
      "https://api.pushshift.io/reddit/search/submission/?subreddit=thedonald&size=500&after=29d\n",
      "https://api.pushshift.io/reddit/search/submission/?subreddit=thedonald&size=500&after=30d\n",
      "https://api.pushshift.io/reddit/search/submission/?subreddit=thedonald&size=500&after=31d\n",
      "https://api.pushshift.io/reddit/search/submission/?subreddit=thedonald&size=500&after=32d\n",
      "https://api.pushshift.io/reddit/search/submission/?subreddit=thedonald&size=500&after=33d\n",
      "https://api.pushshift.io/reddit/search/submission/?subreddit=thedonald&size=500&after=34d\n",
      "https://api.pushshift.io/reddit/search/submission/?subreddit=thedonald&size=500&after=35d\n",
      "https://api.pushshift.io/reddit/search/submission/?subreddit=thedonald&size=500&after=36d\n",
      "https://api.pushshift.io/reddit/search/submission/?subreddit=thedonald&size=500&after=37d\n",
      "https://api.pushshift.io/reddit/search/submission/?subreddit=thedonald&size=500&after=38d\n",
      "https://api.pushshift.io/reddit/search/submission/?subreddit=thedonald&size=500&after=39d\n",
      "https://api.pushshift.io/reddit/search/submission/?subreddit=thedonald&size=500&after=40d\n",
      "https://api.pushshift.io/reddit/search/submission/?subreddit=thedonald&size=500&after=41d\n",
      "https://api.pushshift.io/reddit/search/submission/?subreddit=thedonald&size=500&after=42d\n",
      "https://api.pushshift.io/reddit/search/submission/?subreddit=thedonald&size=500&after=43d\n",
      "https://api.pushshift.io/reddit/search/submission/?subreddit=thedonald&size=500&after=44d\n",
      "https://api.pushshift.io/reddit/search/submission/?subreddit=thedonald&size=500&after=45d\n",
      "https://api.pushshift.io/reddit/search/submission/?subreddit=thedonald&size=500&after=46d\n",
      "https://api.pushshift.io/reddit/search/submission/?subreddit=thedonald&size=500&after=47d\n",
      "https://api.pushshift.io/reddit/search/submission/?subreddit=thedonald&size=500&after=48d\n",
      "https://api.pushshift.io/reddit/search/submission/?subreddit=thedonald&size=500&after=49d\n",
      "(23448, 9)\n"
     ]
    }
   ],
   "source": [
    "glover = query_pushshift('thedonald', times=50)"
   ]
  },
  {
   "cell_type": "code",
   "execution_count": 53,
   "metadata": {},
   "outputs": [
    {
     "data": {
      "text/plain": [
       "2030"
      ]
     },
     "execution_count": 53,
     "metadata": {},
     "output_type": "execute_result"
    }
   ],
   "source": [
    "len(glover['title'].value_counts().values)"
   ]
  },
  {
   "cell_type": "code",
   "execution_count": 56,
   "metadata": {},
   "outputs": [],
   "source": [
    "pd.options.display.max_rows = 999"
   ]
  },
  {
   "cell_type": "code",
   "execution_count": 2,
   "metadata": {
    "scrolled": true
   },
   "outputs": [],
   "source": [
    "#glover.sort_values('title')"
   ]
  },
  {
   "cell_type": "code",
   "execution_count": 58,
   "metadata": {},
   "outputs": [],
   "source": [
    "glover.to_csv('/Users/zacharystern/Documents/GA/submissions/Project_3_reddit.glover_f.csv')"
   ]
  },
  {
   "cell_type": "code",
   "execution_count": 63,
   "metadata": {},
   "outputs": [
    {
     "name": "stdout",
     "output_type": "stream",
     "text": [
      "https://api.pushshift.io/reddit/search/submission/?subreddit=Showerthoughts&size=500&after=1d\n",
      "https://api.pushshift.io/reddit/search/submission/?subreddit=Showerthoughts&size=500&after=2d\n",
      "https://api.pushshift.io/reddit/search/submission/?subreddit=Showerthoughts&size=500&after=3d\n",
      "https://api.pushshift.io/reddit/search/submission/?subreddit=Showerthoughts&size=500&after=4d\n",
      "https://api.pushshift.io/reddit/search/submission/?subreddit=Showerthoughts&size=500&after=5d\n",
      "https://api.pushshift.io/reddit/search/submission/?subreddit=Showerthoughts&size=500&after=6d\n",
      "https://api.pushshift.io/reddit/search/submission/?subreddit=Showerthoughts&size=500&after=7d\n",
      "https://api.pushshift.io/reddit/search/submission/?subreddit=Showerthoughts&size=500&after=8d\n",
      "https://api.pushshift.io/reddit/search/submission/?subreddit=Showerthoughts&size=500&after=9d\n",
      "https://api.pushshift.io/reddit/search/submission/?subreddit=Showerthoughts&size=500&after=10d\n",
      "https://api.pushshift.io/reddit/search/submission/?subreddit=Showerthoughts&size=500&after=11d\n",
      "https://api.pushshift.io/reddit/search/submission/?subreddit=Showerthoughts&size=500&after=12d\n",
      "https://api.pushshift.io/reddit/search/submission/?subreddit=Showerthoughts&size=500&after=13d\n",
      "https://api.pushshift.io/reddit/search/submission/?subreddit=Showerthoughts&size=500&after=14d\n",
      "https://api.pushshift.io/reddit/search/submission/?subreddit=Showerthoughts&size=500&after=15d\n",
      "https://api.pushshift.io/reddit/search/submission/?subreddit=Showerthoughts&size=500&after=16d\n",
      "https://api.pushshift.io/reddit/search/submission/?subreddit=Showerthoughts&size=500&after=17d\n",
      "https://api.pushshift.io/reddit/search/submission/?subreddit=Showerthoughts&size=500&after=18d\n",
      "https://api.pushshift.io/reddit/search/submission/?subreddit=Showerthoughts&size=500&after=19d\n",
      "https://api.pushshift.io/reddit/search/submission/?subreddit=Showerthoughts&size=500&after=20d\n",
      "https://api.pushshift.io/reddit/search/submission/?subreddit=Showerthoughts&size=500&after=21d\n",
      "https://api.pushshift.io/reddit/search/submission/?subreddit=Showerthoughts&size=500&after=22d\n",
      "https://api.pushshift.io/reddit/search/submission/?subreddit=Showerthoughts&size=500&after=23d\n",
      "https://api.pushshift.io/reddit/search/submission/?subreddit=Showerthoughts&size=500&after=24d\n",
      "(12000, 9)\n"
     ]
    }
   ],
   "source": [
    "shower = query_pushshift('Showerthoughts', times=25)"
   ]
  },
  {
   "cell_type": "code",
   "execution_count": 66,
   "metadata": {},
   "outputs": [
    {
     "data": {
      "text/plain": [
       "11933"
      ]
     },
     "execution_count": 66,
     "metadata": {},
     "output_type": "execute_result"
    }
   ],
   "source": [
    "len(shower['title'].value_counts().values)"
   ]
  },
  {
   "cell_type": "code",
   "execution_count": 68,
   "metadata": {},
   "outputs": [],
   "source": [
    "shower.to_csv('/Users/zacharystern/Documents/GA/submissions/Project_3_reddit/shower.csv')"
   ]
  },
  {
   "cell_type": "markdown",
   "metadata": {},
   "source": [
    "Other to check https://www.reddit.com/r/EnoughTrumpSpam/"
   ]
  }
 ],
 "metadata": {
  "kernelspec": {
   "display_name": "Python 3",
   "language": "python",
   "name": "python3"
  },
  "language_info": {
   "codemirror_mode": {
    "name": "ipython",
    "version": 3
   },
   "file_extension": ".py",
   "mimetype": "text/x-python",
   "name": "python",
   "nbconvert_exporter": "python",
   "pygments_lexer": "ipython3",
   "version": "3.6.8"
  }
 },
 "nbformat": 4,
 "nbformat_minor": 2
}
